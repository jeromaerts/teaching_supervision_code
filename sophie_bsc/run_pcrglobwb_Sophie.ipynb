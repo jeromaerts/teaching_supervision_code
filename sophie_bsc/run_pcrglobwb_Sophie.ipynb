{
 "cells": [
  {
   "cell_type": "markdown",
   "metadata": {},
   "source": [
    "# Run PCR-GLOBWB Sophie"
   ]
  },
  {
   "cell_type": "code",
   "execution_count": 11,
   "metadata": {},
   "outputs": [],
   "source": [
    "from grpc4bmi.bmi_client_singularity import BmiClientSingularity\n",
    "from pathos.threading import ThreadPool as Pool\n",
    "\n",
    "from pathlib import Path\n",
    "from cftime import num2date\n",
    "\n",
    "import glob\n",
    "import pandas as pd\n",
    "import numpy as np\n",
    "import xarray as xr"
   ]
  },
  {
   "cell_type": "markdown",
   "metadata": {},
   "source": [
    "## Load Functions"
   ]
  },
  {
   "cell_type": "code",
   "execution_count": 12,
   "metadata": {},
   "outputs": [],
   "source": [
    "def var_to_xarray(model, variable):\n",
    "    # Get grid properties from model (x = latitude !!)\n",
    "    # could be speedup, lots of bmi calls are done here that dont change between updates\n",
    "    shape = model.get_grid_shape(model.get_var_grid(variable))\n",
    "    lat = model.get_grid_x(model.get_var_grid(variable))\n",
    "    lon = model.get_grid_y(model.get_var_grid(variable))\n",
    "    time = num2date(model.get_current_time(), model.get_time_units())\n",
    "\n",
    "    # Get model data for variable at current timestep\n",
    "    data = model.get_value(variable)\n",
    "    data = np.reshape(data, shape)\n",
    "\n",
    "    # Create xarray object\n",
    "    da = xr.DataArray(data, \n",
    "                      coords = {'longitude': lon, 'latitude': lat, 'time': time}, \n",
    "                      dims = ['latitude', 'longitude'],\n",
    "                      name = variable,\n",
    "                      attrs = {'units': model.get_var_units(variable)}\n",
    "                     )\n",
    "\n",
    "    # Masked invalid values on return array:\n",
    "    return da.where(da != -999)\n",
    "\n",
    "\n",
    "def bmi_model_run(singularity_image, input_folder, output_folder, config_file):\n",
    "    \n",
    "    # Create output list\n",
    "    model_output = []\n",
    "    \n",
    "    \n",
    "    # Create model object (singularity image)\n",
    "    print('Create model object')\n",
    "    model = BmiClientSingularity(image=singularity_image,\n",
    "                                 input_dir=input_folder,\n",
    "                                 output_dir=output_folder)\n",
    "    \n",
    "    # Initialize model object\n",
    "    print('Initialize model object')\n",
    "    model.initialize(config_file)\n",
    "    \n",
    "    # Get time units\n",
    "    time_units = model.get_time_units()\n",
    "    \n",
    "    print(f'Running Model Run', flush=True)\n",
    "\n",
    "    # Run model between specified start and end in the configfile\n",
    "    while model.get_current_time() < model.get_end_time(): \n",
    "        #Get the current time to print\n",
    "        time = num2date(model.get_current_time(), time_units)\n",
    "        print(f'Current time: {time}', end=\"\\r\")\n",
    "\n",
    "        # Run the model for the next timestep\n",
    "        model.update()\n",
    "        \n",
    "        # Append output\n",
    "        model_output.append(var_to_xarray(model, variable=\"total_evaporation\"))\n",
    "    \n",
    "    # Finalize model\n",
    "    model.finalize()\n",
    "    \n",
    "    # Write output netcdf\n",
    "    ds_out = xr.concat(model_output, dim='time')\n",
    "    ds_out.to_netcdf(f'{output_folder}/{output_folder.split(\"/\")[-2]}_total_evaporation.nc')\n",
    "    \n",
    "    return model_output\n",
    "\n",
    "\n",
    "def parallel_model_run(singularity_images, input_folders, output_folders, config_files, threads=None):\n",
    "    # Set number of threads (cores) used for parallel run and map threads\n",
    "    if threads is None:\n",
    "        pool = Pool()\n",
    "    else:\n",
    "        pool = Pool(nodes=threads)\n",
    "\n",
    "    pool.map(\n",
    "        bmi_model_run,\n",
    "        singularity_images,\n",
    "        input_folders,\n",
    "        output_folders,\n",
    "        config_files,\n",
    "    )\n",
    "    \n",
    "    return print('parallel_finished')"
   ]
  },
  {
   "cell_type": "markdown",
   "metadata": {},
   "source": [
    "## Set Paths and Files"
   ]
  },
  {
   "cell_type": "code",
   "execution_count": 13,
   "metadata": {},
   "outputs": [],
   "source": [
    "WORKDIR = Path('/lustre1/0/wtrcycle/users/jaerts/camels_wflow/sophie_BEP/')\n",
    "INPUTDIR = Path('/lustre1/0/wtrcycle/lorentz-workshop/pcr-globwb/input/')\n",
    "OUTPUTDIR = Path('/lustre1/0/wtrcycle/users/jaerts/camels_wflow/sophie_BEP/')\n",
    "\n",
    "# flux_selection_file = 'fluxnet_toren_selectie_klein_Sophie_Jaren.csv'\n",
    "flux_selection_file = 'rerun.csv'\n",
    "singularity_image = \"/home/jaerts/ewatercycle-pcrg-grpc4bmi.sif\""
   ]
  },
  {
   "cell_type": "markdown",
   "metadata": {},
   "source": [
    "## Load Dataframe"
   ]
  },
  {
   "cell_type": "code",
   "execution_count": 23,
   "metadata": {},
   "outputs": [
    {
     "data": {
      "text/html": [
       "<div>\n",
       "<style scoped>\n",
       "    .dataframe tbody tr th:only-of-type {\n",
       "        vertical-align: middle;\n",
       "    }\n",
       "\n",
       "    .dataframe tbody tr th {\n",
       "        vertical-align: top;\n",
       "    }\n",
       "\n",
       "    .dataframe thead th {\n",
       "        text-align: right;\n",
       "    }\n",
       "</style>\n",
       "<table border=\"1\" class=\"dataframe\">\n",
       "  <thead>\n",
       "    <tr style=\"text-align: right;\">\n",
       "      <th></th>\n",
       "      <th>SITE_NAME</th>\n",
       "      <th>FLUXNET2015</th>\n",
       "      <th>FLUXNET-CH4</th>\n",
       "      <th>LOCATION_LAT</th>\n",
       "      <th>LOCATION_LONG</th>\n",
       "      <th>LOCATION_ELEV</th>\n",
       "      <th>IGBP</th>\n",
       "      <th>MAT</th>\n",
       "      <th>MAP</th>\n",
       "      <th>Aantal jaar</th>\n",
       "      <th>Klimaat</th>\n",
       "      <th>Vanaf</th>\n",
       "      <th>Tot</th>\n",
       "      <th>totaal</th>\n",
       "    </tr>\n",
       "    <tr>\n",
       "      <th>SITE_ID</th>\n",
       "      <th></th>\n",
       "      <th></th>\n",
       "      <th></th>\n",
       "      <th></th>\n",
       "      <th></th>\n",
       "      <th></th>\n",
       "      <th></th>\n",
       "      <th></th>\n",
       "      <th></th>\n",
       "      <th></th>\n",
       "      <th></th>\n",
       "      <th></th>\n",
       "      <th></th>\n",
       "      <th></th>\n",
       "    </tr>\n",
       "  </thead>\n",
       "  <tbody>\n",
       "    <tr>\n",
       "      <th>AU-Cpr</th>\n",
       "      <td>Calperum</td>\n",
       "      <td>CC-BY-4.0</td>\n",
       "      <td>NaN</td>\n",
       "      <td>-34.0021</td>\n",
       "      <td>140.5891</td>\n",
       "      <td>NaN</td>\n",
       "      <td>SAV</td>\n",
       "      <td>NaN</td>\n",
       "      <td>NaN</td>\n",
       "      <td>5</td>\n",
       "      <td>BWk</td>\n",
       "      <td>2011-01</td>\n",
       "      <td>2013-12</td>\n",
       "      <td>3 jaar</td>\n",
       "    </tr>\n",
       "  </tbody>\n",
       "</table>\n",
       "</div>"
      ],
      "text/plain": [
       "        SITE_NAME FLUXNET2015  FLUXNET-CH4  LOCATION_LAT  LOCATION_LONG  \\\n",
       "SITE_ID                                                                   \n",
       "AU-Cpr   Calperum   CC-BY-4.0          NaN      -34.0021       140.5891   \n",
       "\n",
       "         LOCATION_ELEV IGBP  MAT  MAP  Aantal jaar Klimaat    Vanaf      Tot  \\\n",
       "SITE_ID                                                                        \n",
       "AU-Cpr             NaN  SAV  NaN  NaN            5     BWk  2011-01  2013-12   \n",
       "\n",
       "         totaal  \n",
       "SITE_ID          \n",
       "AU-Cpr   3 jaar  "
      ]
     },
     "execution_count": 23,
     "metadata": {},
     "output_type": "execute_result"
    }
   ],
   "source": [
    "df = pd.read_csv(f'{WORKDIR}/{flux_selection_file}', sep=';')\n",
    "df = df.set_index('SITE_ID')\n",
    "df"
   ]
  },
  {
   "cell_type": "markdown",
   "metadata": {},
   "source": [
    "## Create lists for parallel run"
   ]
  },
  {
   "cell_type": "code",
   "execution_count": 24,
   "metadata": {},
   "outputs": [],
   "source": [
    "singularity_images = []\n",
    "input_folders = []\n",
    "output_folders = []\n",
    "config_files = []\n",
    "\n",
    "for index, row in df.iterrows():\n",
    "    \n",
    "\n",
    "    singularity_images.append(singularity_image)\n",
    "    input_folders.append(str(INPUTDIR))\n",
    "\n",
    "    output_folder = f'{OUTPUTDIR}/{index.lower()}_output/'\n",
    "    output_folders.append(output_folder)\n",
    "    \n",
    "    config_file = glob.glob(f'{INPUTDIR}/{index.lower()}_05min_Input.ini')[0]\n",
    "    config_files.append(config_file)"
   ]
  },
  {
   "cell_type": "markdown",
   "metadata": {},
   "source": [
    "## Start Parallel Run"
   ]
  },
  {
   "cell_type": "code",
   "execution_count": 25,
   "metadata": {},
   "outputs": [
    {
     "data": {
      "text/plain": [
       "1"
      ]
     },
     "execution_count": 25,
     "metadata": {},
     "output_type": "execute_result"
    }
   ],
   "source": [
    "len(input_folders)"
   ]
  },
  {
   "cell_type": "code",
   "execution_count": 26,
   "metadata": {},
   "outputs": [
    {
     "name": "stdout",
     "output_type": "stream",
     "text": [
      "Create model object\n",
      "Initialize model object\n",
      "Running Model Run\n",
      "parallel_finished3-12-30 00:00:00\n"
     ]
    }
   ],
   "source": [
    "parallel_model_run(singularity_images, input_folders, output_folders, config_files)"
   ]
  },
  {
   "cell_type": "code",
   "execution_count": null,
   "metadata": {},
   "outputs": [],
   "source": []
  }
 ],
 "metadata": {
  "kernelspec": {
   "display_name": "Python 3",
   "language": "python",
   "name": "python3"
  },
  "language_info": {
   "codemirror_mode": {
    "name": "ipython",
    "version": 3
   },
   "file_extension": ".py",
   "mimetype": "text/x-python",
   "name": "python",
   "nbconvert_exporter": "python",
   "pygments_lexer": "ipython3",
   "version": "3.8.6"
  }
 },
 "nbformat": 4,
 "nbformat_minor": 4
}
