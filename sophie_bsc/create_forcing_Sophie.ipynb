{
 "cells": [
  {
   "cell_type": "markdown",
   "metadata": {},
   "source": [
    "# Create PCRGLOBWB forcing Sophie"
   ]
  },
  {
   "cell_type": "code",
   "execution_count": 1,
   "metadata": {},
   "outputs": [],
   "source": [
    "import shutil\n",
    "import subprocess\n",
    "import os\n",
    "from glob import glob\n",
    "from pathlib import Path\n",
    "import shutil\n",
    "\n",
    "import matplotlib.pyplot as plt\n",
    "import numpy as np\n",
    "import xarray as xr\n",
    "import yaml\n",
    "import pandas as pd\n",
    "\n",
    "from cartopy import crs\n",
    "from cartopy import feature as cfeature\n",
    "from cartopy.io import shapereader\n",
    "\n",
    "import esmvaltool"
   ]
  },
  {
   "cell_type": "markdown",
   "metadata": {},
   "source": [
    "## Set Paths"
   ]
  },
  {
   "cell_type": "code",
   "execution_count": 2,
   "metadata": {},
   "outputs": [],
   "source": [
    "FLUXDIR = Path('/lustre1/0/wtrcycle/users/jaerts/camels_wflow/sophie_BEP/')\n",
    "MODELDIR = Path('/lustre1/0/wtrcycle/lorentz-workshop/pcr-globwb/input/')\n",
    "flux_selection_file = 'fluxnet_toren_selectie_klein_Sophie_Jaren.csv'"
   ]
  },
  {
   "cell_type": "markdown",
   "metadata": {},
   "source": [
    "## Load dataframes"
   ]
  },
  {
   "cell_type": "code",
   "execution_count": 3,
   "metadata": {},
   "outputs": [],
   "source": [
    "# Load FLUXNET selection DataFrame\n",
    "df = pd.read_csv(f'{FLUXDIR}/{flux_selection_file}', sep=';')\n",
    "df = df.set_index('SITE_ID')\n",
    "\n",
    "df_extents = pd.read_csv(f'{FLUXDIR}/clonemap_extents.csv')\n",
    "df_extents = df_extents.set_index('site_id')"
   ]
  },
  {
   "cell_type": "markdown",
   "metadata": {},
   "source": [
    "## Extract start years & end years"
   ]
  },
  {
   "cell_type": "code",
   "execution_count": 4,
   "metadata": {},
   "outputs": [],
   "source": [
    "start_years = list(df['Vanaf'])\n",
    "start_years = [x[:4] for x in start_years]\n",
    "end_years = list(df['Tot'])\n",
    "end_years = [x[:4] for x in end_years]\n",
    "\n",
    "df_extents['start_year'] = start_years\n",
    "df_extents['end_year'] = end_years"
   ]
  },
  {
   "cell_type": "markdown",
   "metadata": {},
   "source": [
    "## Create ESMValTooL recipes"
   ]
  },
  {
   "cell_type": "code",
   "execution_count": 5,
   "metadata": {},
   "outputs": [],
   "source": [
    "def derive_esmvaltool_recipe(station_name, lon_min, lon_max, lat_min, lat_max, start_year, end_year):\n",
    "\n",
    "    # def derive_esmvaltool_recipe(station, start_year, end_year):\n",
    "    \"\"\"Update specific sections in ESMValTool recipe and save as new file.\"\"\"\n",
    "    esmvaltool_root = esmvaltool.__path__[0]\n",
    "    template = f\"{FLUXDIR}/recipe_pcrglobwb_sophie.yml\"\n",
    "\n",
    "    with open(template) as f:\n",
    "        recipe = yaml.load(f, Loader=yaml.CLoader)\n",
    "\n",
    "    # Update the basin name for the diagnostic script\n",
    "    recipe[\"diagnostics\"][\"diagnostic_daily\"][\"scripts\"][\"script\"][\n",
    "        \"basin\"\n",
    "    ] = station_name.lower()\n",
    "\n",
    "    # Set the extents of desired the forcing data\n",
    "    \n",
    "    esmvaltool_padding = 1.5\n",
    "    \n",
    "    recipe[\"preprocessors\"][\"crop_basin\"][\"extract_region\"].update(\n",
    "        {\n",
    "            \"start_latitude\": lat_min - esmvaltool_padding,\n",
    "            \"end_latitude\": lat_max + esmvaltool_padding,\n",
    "            \"start_longitude\": lon_min - esmvaltool_padding,\n",
    "            \"end_longitude\": lon_max + esmvaltool_padding,\n",
    "        }\n",
    "    )\n",
    "\n",
    "    for var in (\"tas\", \"pr\", \"evspsblpot\"):\n",
    "        recipe[\"diagnostics\"][\"diagnostic_daily\"][\"variables\"][var][\n",
    "            \"start_year\"\n",
    "        ] = start_year\n",
    "        recipe[\"diagnostics\"][\"diagnostic_daily\"][\"variables\"][var][\n",
    "            \"end_year\"\n",
    "        ] = end_year\n",
    "\n",
    "    output_file = f\"/lustre1/0/wtrcycle/users/jaerts/camels_wflow/sophie_BEP/recipes/recipe_pcrglobwb_{station_name}.yml\"\n",
    "    with open(output_file, \"w\") as f:\n",
    "        yaml.dump(recipe, f, default_flow_style=False)\n",
    "    \n",
    "    return output_file"
   ]
  },
  {
   "cell_type": "code",
   "execution_count": 6,
   "metadata": {},
   "outputs": [
    {
     "name": "stdout",
     "output_type": "stream",
     "text": [
      "AU-Cpr\n",
      "BR-Npw\n",
      "CN-Ha2\n",
      "ES-LgS\n",
      "FR-Pue\n",
      "GF-Guy\n",
      "MY-PSO\n",
      "NL-Loo\n",
      "SD-Dem\n",
      "US-ARM\n",
      "US-Ha1\n",
      "US-Me2\n",
      "US-MMS\n",
      "ZA-Kru\n",
      "ZM-Mon\n"
     ]
    }
   ],
   "source": [
    "all_recipes = []\n",
    "for station_name, row in df_extents.iterrows():\n",
    "    print(station_name)\n",
    "    lon_min = float(row.lon_min)\n",
    "    lon_max = float(row.lon_max)\n",
    "    lat_min = float(row.lat_min)\n",
    "    lat_max = float(row.lat_max)\n",
    "    \n",
    "    start_year = int(row.start_year) - 1\n",
    "    end_year = int(row.end_year)\n",
    "    \n",
    "    new_recipe_file = derive_esmvaltool_recipe(station_name, lon_min, lon_max, lat_min, lat_max, start_year, end_year)\n",
    "    all_recipes.append(new_recipe_file)"
   ]
  },
  {
   "cell_type": "markdown",
   "metadata": {},
   "source": [
    "## Run esmvaltool"
   ]
  },
  {
   "cell_type": "code",
   "execution_count": 7,
   "metadata": {},
   "outputs": [
    {
     "name": "stdout",
     "output_type": "stream",
     "text": [
      "/lustre1/0/wtrcycle/users/jaerts/camels_wflow/sophie_BEP/recipes/recipe_pcrglobwb_AU-Cpr.yml\n",
      "/lustre1/0/wtrcycle/users/jaerts/camels_wflow/sophie_BEP/recipes/recipe_pcrglobwb_BR-Npw.yml\n",
      "/lustre1/0/wtrcycle/users/jaerts/camels_wflow/sophie_BEP/recipes/recipe_pcrglobwb_CN-Ha2.yml\n",
      "/lustre1/0/wtrcycle/users/jaerts/camels_wflow/sophie_BEP/recipes/recipe_pcrglobwb_ES-LgS.yml\n",
      "/lustre1/0/wtrcycle/users/jaerts/camels_wflow/sophie_BEP/recipes/recipe_pcrglobwb_FR-Pue.yml\n",
      "/lustre1/0/wtrcycle/users/jaerts/camels_wflow/sophie_BEP/recipes/recipe_pcrglobwb_GF-Guy.yml\n",
      "/lustre1/0/wtrcycle/users/jaerts/camels_wflow/sophie_BEP/recipes/recipe_pcrglobwb_MY-PSO.yml\n",
      "/lustre1/0/wtrcycle/users/jaerts/camels_wflow/sophie_BEP/recipes/recipe_pcrglobwb_NL-Loo.yml\n",
      "/lustre1/0/wtrcycle/users/jaerts/camels_wflow/sophie_BEP/recipes/recipe_pcrglobwb_SD-Dem.yml\n",
      "/lustre1/0/wtrcycle/users/jaerts/camels_wflow/sophie_BEP/recipes/recipe_pcrglobwb_US-ARM.yml\n",
      "/lustre1/0/wtrcycle/users/jaerts/camels_wflow/sophie_BEP/recipes/recipe_pcrglobwb_US-Ha1.yml\n",
      "/lustre1/0/wtrcycle/users/jaerts/camels_wflow/sophie_BEP/recipes/recipe_pcrglobwb_US-Me2.yml\n",
      "/lustre1/0/wtrcycle/users/jaerts/camels_wflow/sophie_BEP/recipes/recipe_pcrglobwb_US-MMS.yml\n",
      "/lustre1/0/wtrcycle/users/jaerts/camels_wflow/sophie_BEP/recipes/recipe_pcrglobwb_ZA-Kru.yml\n",
      "/lustre1/0/wtrcycle/users/jaerts/camels_wflow/sophie_BEP/recipes/recipe_pcrglobwb_ZM-Mon.yml\n"
     ]
    }
   ],
   "source": [
    "for recipe in all_recipes:\n",
    "    print(recipe)\n",
    "    subprocess.check_call([\"esmvaltool\", \"run\", recipe])"
   ]
  },
  {
   "cell_type": "markdown",
   "metadata": {},
   "source": [
    "## Copy output to model directory"
   ]
  },
  {
   "cell_type": "code",
   "execution_count": 8,
   "metadata": {},
   "outputs": [],
   "source": [
    "for station_name, row in df_extents.iterrows():\n",
    "    \n",
    "    # Copy paste output\n",
    "    forcing_files = glob(f\"/lustre1/0/wtrcycle/users/jaerts/camels_wflow/forcing/output/*{station_name}*/work/diagnostic_daily/script/*.nc\")\\\n",
    "    \n",
    "    for forcing in forcing_files:\n",
    "        \n",
    "        OUTDIR = f'{MODELDIR}/global_05min/meteo/SophieBEP/'\n",
    "        outfile = os.path.basename(forcing) \n",
    "        shutil.copy(forcing, f'{OUTDIR}/{outfile}')\n",
    "\n",
    "#     shutil.rmtree(glob(f\"/lustre1/0/wtrcycle/users/jaerts/camels_wflow/forcing/output/*{station_name}*/\"))"
   ]
  },
  {
   "cell_type": "code",
   "execution_count": null,
   "metadata": {},
   "outputs": [],
   "source": []
  },
  {
   "cell_type": "code",
   "execution_count": null,
   "metadata": {},
   "outputs": [],
   "source": []
  },
  {
   "cell_type": "code",
   "execution_count": null,
   "metadata": {},
   "outputs": [],
   "source": []
  },
  {
   "cell_type": "code",
   "execution_count": null,
   "metadata": {},
   "outputs": [],
   "source": []
  },
  {
   "cell_type": "code",
   "execution_count": null,
   "metadata": {},
   "outputs": [],
   "source": []
  },
  {
   "cell_type": "code",
   "execution_count": null,
   "metadata": {},
   "outputs": [],
   "source": []
  }
 ],
 "metadata": {
  "kernelspec": {
   "display_name": "Python 3",
   "language": "python",
   "name": "python3"
  },
  "language_info": {
   "codemirror_mode": {
    "name": "ipython",
    "version": 3
   },
   "file_extension": ".py",
   "mimetype": "text/x-python",
   "name": "python",
   "nbconvert_exporter": "python",
   "pygments_lexer": "ipython3",
   "version": "3.8.6"
  }
 },
 "nbformat": 4,
 "nbformat_minor": 4
}
